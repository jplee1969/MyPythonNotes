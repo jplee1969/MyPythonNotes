{
 "cells": [
  {
   "cell_type": "markdown",
   "metadata": {},
   "source": [
    "# Jupyter NoteBook的一些配置"
   ]
  },
  {
   "cell_type": "markdown",
   "metadata": {},
   "source": [
    "## 为anaconda的jupyter notebook设置初始化目录\n",
    "在使用jupyter进行编程时，初始化目录可能不是自己想要的目录，那么下面讲解修改成自己想要的目录。\n",
    "\n",
    "1） 在命令行中输入jupyter notebook --generate-config，会产生一个配置文件\n",
    "\n",
    "　　我的会显示Writing default config to: C:\\Users\\allen\\.jupyter\\jupyter_notebook_config.py这样的提示。\n",
    "\n",
    " \n",
    "\n",
    "2） 找到对应的文件，搜索c.NotebookApp.notebook_dir\n",
    "\n",
    "　　将前面的#注释去掉，在后面填上自己想要设置的初始化目录。比如我设置成c.NotebookApp.notebook_dir = u'D:\\chengxu\\ML'\n",
    "\n",
    "　　以后就会将'D:\\chengxu\\ML'这个目录成为初始化的目录。"
   ]
  },
  {
   "cell_type": "markdown",
   "metadata": {},
   "source": [
    "## 安装rpy2\n",
    "\n",
    "这几天想在Python中直接调用R，利用R中的函数对数据进行处理。在网上搜索之后，发现了Rpy2，他提供了一个从Python到R的底层接口，使得Python可以很直接调用R中的包、函数等进行功能的实现。  \n",
    "   在安装Rpy2的过程中，我尝试了很多种方法，看了stackflow里面的一些解决措施，还是未能安装成功。后来，看了官方一些文档，采用了下面这种用pip安装的方法，成功安装了Rpy2。具体方法如下：  \n",
    "- 1、首先要安装R  \n",
    "   配置好R软件的环境,修改环境变量  \n",
    "在系统变量和用户变量中添加或修改：  \n",
    "Path：添加R.dll的路径 如：C:\\Program Files\\R\\R-3.1.2\\bin\\i386  \n",
    "R_HOME:R的安装路径   如：C:\\Program Files\\R\\R-3.1.2  \n",
    "R_USER:R的安装路径   如：C:\\Program Files\\R\\R-3.1.2,如果出现错误：R_USER Not Define，则设置为当前用户名\n",
    "- 2、下载Rpy2 的Python非官方安装包 （下载的是.whl文件，我的电脑是windows 64bit 的，所以我下载了 rpy2‑2.8.5‑cp36-cp36m-win_amd64.whl）    \n",
    "- 3、使用pip 安装下载的.whl文件  "
   ]
  },
  {
   "cell_type": "code",
   "execution_count": 4,
   "metadata": {
    "collapsed": false
   },
   "outputs": [
    {
     "name": "stdout",
     "output_type": "stream",
     "text": [
      "The rpy2.ipython extension is already loaded. To reload it, use:\n",
      "  %reload_ext rpy2.ipython\n"
     ]
    }
   ],
   "source": [
    "%load_ext rpy2.ipython"
   ]
  },
  {
   "cell_type": "code",
   "execution_count": 10,
   "metadata": {
    "collapsed": false
   },
   "outputs": [
    {
     "data": {
      "image/png": "[encoded data removed]"
     },
     "metadata": {},
     "output_type": "display_data"
    }
   ],
   "source": [
    "%%R\n",
    "library(ggplot2)\n",
    "a <- seq(1,50)\n",
    "b <- a **2 + 2 * a + 3\n",
    "qplot(a,b)"
   ]
  },
  {
   "cell_type": "code",
   "execution_count": null,
   "metadata": {
    "collapsed": true
   },
   "outputs": [],
   "source": []
  }
 ],
 "metadata": {
  "kernelspec": {
   "display_name": "Python 3",
   "language": "python",
   "name": "python3"
  },
  "language_info": {
   "codemirror_mode": {
    "name": "ipython",
    "version": 3
   },
   "file_extension": ".py",
   "mimetype": "text/x-python",
   "name": "python",
   "nbconvert_exporter": "python",
   "pygments_lexer": "ipython3",
   "version": "3.6.0"
  }
 },
 "nbformat": 4,
 "nbformat_minor": 2
}
